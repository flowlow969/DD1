{
 "cells": [
  {
   "cell_type": "markdown",
   "id": "f762dff2",
   "metadata": {},
   "source": [
    "# OpenCV"
   ]
  },
  {
   "cell_type": "markdown",
   "id": "88dc6eca",
   "metadata": {},
   "source": [
    "## 1. Überprüffe ob OpenCv instaliert ist. Wenn du beim ausführen der Nächsten Codezeilen eine Versionsnummer wie z.B. 4.5.5 bekommst ist alles gut und du kannst direkt mit Aufgabe 2 machen ansonsten führen unter  1a. aus. "
   ]
  },
  {
   "cell_type": "code",
   "execution_count": 1,
   "id": "7b405d35",
   "metadata": {},
   "outputs": [
    {
     "name": "stdout",
     "output_type": "stream",
     "text": [
      "4.5.5\n"
     ]
    }
   ],
   "source": [
    "import cv2\n",
    "print (cv2.__version__)"
   ]
  },
  {
   "cell_type": "markdown",
   "id": "778b5a2b",
   "metadata": {},
   "source": [
    "## 1a. Instaltion von OpenCV mit PIP"
   ]
  },
  {
   "cell_type": "code",
   "execution_count": 2,
   "id": "dd8f0aec",
   "metadata": {},
   "outputs": [
    {
     "name": "stdout",
     "output_type": "stream",
     "text": [
      "Requirement already satisfied: opencv-python in /Users/florianherrmann/opt/anaconda3/lib/python3.9/site-packages (4.5.5.64)\n",
      "Requirement already satisfied: numpy>=1.19.3 in /Users/florianherrmann/opt/anaconda3/lib/python3.9/site-packages (from opencv-python) (1.20.3)\n",
      "\u001b[33mWARNING: There was an error checking the latest version of pip.\u001b[0m\u001b[33m\n",
      "\u001b[0m"
     ]
    }
   ],
   "source": [
    "!python -m pip install opencv-python "
   ]
  },
  {
   "cell_type": "markdown",
   "id": "e799f2a7",
   "metadata": {},
   "source": [
    "## 2a. Öffne ein Bild und las es dir anzeigen.\n",
    "Öffne das beiligende Bild `example.png` und lass es dir anzeigen.\n",
    "[Hilfe](https://docs.opencv.org/4.x/db/deb/tutorial_display_image.html)"
   ]
  },
  {
   "cell_type": "code",
   "execution_count": 1,
   "id": "fe6bd351",
   "metadata": {},
   "outputs": [
    {
     "data": {
      "text/plain": [
       "48"
      ]
     },
     "execution_count": 1,
     "metadata": {},
     "output_type": "execute_result"
    }
   ],
   "source": []
  },
  {
   "cell_type": "markdown",
   "id": "fcd16351",
   "metadata": {},
   "source": [
    "## 2b. Falls du an einem Computer mit Webcam sitzt kannst du mit OpenCv auch auf dem Bild von dieser Rumrechnen. \n",
    "So kannst du sie Nutzen:\n",
    "    "
   ]
  },
  {
   "cell_type": "code",
   "execution_count": 16,
   "id": "48540448",
   "metadata": {},
   "outputs": [
    {
     "name": "stdout",
     "output_type": "stream",
     "text": [
      "Showing camera feed. Click window or press any key to stop.\n"
     ]
    }
   ],
   "source": [
    "import cv2\n",
    "clicked = False\n",
    "def onMouse(event, x, y, flags, param):\n",
    "    global clicked\n",
    "    if event == cv2.EVENT_LBUTTONUP:\n",
    "        clicked = True\n",
    "cameraCapture = cv2.VideoCapture(0)\n",
    "cv2.namedWindow('MyWindow')\n",
    "cv2.setMouseCallback('MyWindow', onMouse)\n",
    "print ('Showing camera feed. Click window or press any key to stop.')\n",
    "success, frame = cameraCapture.read()\n",
    "while success and cv2.waitKey(1) == -1 and not clicked:\n",
    "    cv2.imshow('MyWindow', frame)\n",
    "    success, frame = cameraCapture.read()\n",
    "cv2.destroyWindow('MyWindow')\n",
    "cameraCapture.release()"
   ]
  },
  {
   "cell_type": "markdown",
   "id": "9d4d73d9",
   "metadata": {},
   "source": [
    "## 3a. Las dir nun das Bild in Schwarz/Weiß anzeigen.\n",
    "[Hilfe](https://docs.opencv.org/4.x/d5/d98/tutorial_mat_operations.html)"
   ]
  },
  {
   "cell_type": "code",
   "execution_count": 10,
   "id": "c143e348",
   "metadata": {},
   "outputs": [],
   "source": []
  },
  {
   "cell_type": "markdown",
   "id": "7c181393",
   "metadata": {},
   "source": [
    "## 3b. Las dir nur den Roten unf Blauen kanal des Bildes anzeigen.\n",
    "[Hilfe](https://docs.opencv.org/4.x/d5/d98/tutorial_mat_operations.html)"
   ]
  },
  {
   "cell_type": "code",
   "execution_count": 17,
   "id": "48f57e86",
   "metadata": {},
   "outputs": [
    {
     "data": {
      "text/plain": [
       "48"
      ]
     },
     "execution_count": 17,
     "metadata": {},
     "output_type": "execute_result"
    }
   ],
   "source": []
  },
  {
   "cell_type": "markdown",
   "id": "70dad8b4",
   "metadata": {},
   "source": [
    "## 4. Kannten Erkenung.\n",
    "In den Letzten Aufgaben wurde immer wieder auf die Dokumentation von OpenCv verwiesen. Versuche mithilfe des Befehls `Canny` und der beiden Schwelenwerte 100 und 100 die Kanten der Zellen sichtbar zu machen. Dazu verwenden wir die Datei `cells.bmp`\n"
   ]
  },
  {
   "cell_type": "code",
   "execution_count": 5,
   "id": "342b8227",
   "metadata": {},
   "outputs": [
    {
     "data": {
      "text/plain": [
       "48"
      ]
     },
     "execution_count": 5,
     "metadata": {},
     "output_type": "execute_result"
    }
   ],
   "source": [
    "import numpy as np\n",
    "img = cv.imread(\"cells.bmp\")\n"
   ]
  },
  {
   "cell_type": "markdown",
   "id": "32c83042",
   "metadata": {},
   "source": [
    "## 5. Sieht nicht so toll aus oder?\n",
    "Das sieht nicht so toll aus, um die zellen besser sichtbar zu machen wenden wir Jetzt zunächst eine Schwellwertbildung an und \n"
   ]
  },
  {
   "cell_type": "code",
   "execution_count": 53,
   "id": "2d338328",
   "metadata": {},
   "outputs": [
    {
     "data": {
      "text/plain": [
       "48"
      ]
     },
     "execution_count": 53,
     "metadata": {},
     "output_type": "execute_result"
    }
   ],
   "source": [
    "##In Graustufen umwandeln\n",
    "_grey = cv.cvtColor(img, cv.COLOR_BGR2GRAY)\n",
    "\n",
    "##Schwellwertbildung mit OTSU Methode\n",
    "ret, thresh = cv.threshold(_grey, 0, 255, cv.THRESH_OTSU)\n",
    "cv.imshow(\"Display Binary\", thresh)\n",
    "cv.waitKey(0)"
   ]
  },
  {
   "cell_type": "markdown",
   "id": "695f498b",
   "metadata": {},
   "source": [
    "Anschliesend können übereinander liegendene Zellen mittels Erodierung und Deletierung getrent werden(Klappt nich immer aber ist schon besser)"
   ]
  },
  {
   "cell_type": "code",
   "execution_count": 54,
   "id": "812230b0",
   "metadata": {},
   "outputs": [],
   "source": [
    "##Kernel erzeugen mit der Grösse 2 x 2\n",
    "kernel = np.ones((2, 2), np.uint8)\n",
    "  \n",
    "## Bin Bild erodiern um verbunden Zellen zu trennen\n",
    "_erode = cv.erode(thresh, kernel, iterations=5) \n",
    "#cv.imshow(\"Display Erode\", _erode)\n",
    "#cv.waitKey(0)\n",
    "\n",
    "\n",
    "##Kernel erzeugen mit der Grösse 4 x 4\n",
    "kernel = np.ones((4, 4), np.uint8)\n",
    "## Bild Delitieren um Zellen auf ursprüngliche grösse zu bringen\n",
    "_dilation = cv.dilate(_erode, kernel, iterations=2)\n",
    "\n",
    "#cv.imshow(\"Display Dilitation\", _dilation)\n",
    "#cv.waitKey(0)"
   ]
  },
  {
   "cell_type": "markdown",
   "id": "e3872b13",
   "metadata": {},
   "source": [
    "Jetzt können die Kannten gewonnen werden und dammit die Zellen besser sichtbar gemacht werden."
   ]
  },
  {
   "cell_type": "code",
   "execution_count": null,
   "id": "d3fb4187",
   "metadata": {},
   "outputs": [],
   "source": [
    "\n",
    "# Nochmal Kannten erkenung \n",
    "_edges = cv.Canny(_dilation, 100, 100)\n",
    "# Alles Adieren\n",
    "vis = cv.addWeighted(_grey,0.5,  _edges,0.5,0)\n",
    "\n",
    "\n",
    "# So sieht sind die Zellen schon besser zu sehen\n",
    "cv.imshow(\"Display Cells with edge\", vis)\n",
    "cv.waitKey(0)"
   ]
  },
  {
   "cell_type": "markdown",
   "id": "c475dfb8",
   "metadata": {},
   "source": [
    "## Besschriftung:"
   ]
  },
  {
   "cell_type": "code",
   "execution_count": 96,
   "id": "881b201c",
   "metadata": {},
   "outputs": [
    {
     "data": {
      "text/plain": [
       "[<skimage.measure._regionprops.RegionProperties at 0x7f92506aacd0>]"
      ]
     },
     "execution_count": 96,
     "metadata": {},
     "output_type": "execute_result"
    }
   ],
   "source": [
    "\"\"\"from skimage.measure import regionprops, regionprops_table\n",
    "\n",
    "regions = regionprops(thresh)\n",
    "\n",
    "cnt = 1\n",
    "for props in regions:\n",
    "    y0, x0 = props.centroid\n",
    "    yi = int(y0)\n",
    "    xi = int(x0)\n",
    "    cv.putText(img=vis, text=str(cnt), org=(yi, xi), fontFace=cv.FONT_HERSHEY_TRIPLEX,color=(255,255,0), fontScale=0.5, thickness=1)\n",
    "    cnt = cnt + 1\"\"\""
   ]
  },
  {
   "cell_type": "code",
   "execution_count": null,
   "id": "91069001",
   "metadata": {},
   "outputs": [],
   "source": []
  }
 ],
 "metadata": {
  "kernelspec": {
   "display_name": "Python 3 (ipykernel)",
   "language": "python",
   "name": "python3"
  },
  "language_info": {
   "codemirror_mode": {
    "name": "ipython",
    "version": 3
   },
   "file_extension": ".py",
   "mimetype": "text/x-python",
   "name": "python",
   "nbconvert_exporter": "python",
   "pygments_lexer": "ipython3",
   "version": "3.9.7"
  }
 },
 "nbformat": 4,
 "nbformat_minor": 5
}

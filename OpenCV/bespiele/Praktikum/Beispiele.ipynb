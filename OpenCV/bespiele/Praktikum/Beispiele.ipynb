{
 "cells": [
  {
   "cell_type": "markdown",
   "id": "28fa613e",
   "metadata": {},
   "source": [
    "# Beispiel 1\n"
   ]
  },
  {
   "cell_type": "code",
   "execution_count": 2,
   "id": "3a2948f4",
   "metadata": {},
   "outputs": [],
   "source": [
    "import cv2   as cv\t\t\t\t\t\t#Lade OpenCV\n",
    "\n",
    "filename = \"example.png\" \t\t\t\t#Pfad zum Bild \n",
    "image = cv.imread(filename,0)  \t\t#Bild Laden\n",
    "if image is None:               \n",
    "\tprint(\"Unable to open \" + filename)\n",
    "\texit(-1)\n",
    "\n",
    "cv.imshow(\"An example image\", image)    #Bild anzeigen\n",
    "cv.waitKey(0)\n",
    "cv.destroyAllWindows()"
   ]
  },
  {
   "cell_type": "markdown",
   "id": "44e4881b",
   "metadata": {},
   "source": [
    "# Beispiel 2"
   ]
  },
  {
   "cell_type": "code",
   "execution_count": 3,
   "id": "49ef55dc",
   "metadata": {},
   "outputs": [],
   "source": [
    "import cv2 as cv\n",
    "import numpy as np\n",
    "\n",
    "image = cv.imread('example.png',0)\n",
    "\n",
    "height, width = image.shape\n",
    "\n",
    "canny = cv.Canny(image, 50, 120)\n",
    "cv.imshow('Canny', canny)\n",
    "cv.waitKey(0)\n",
    "cv.destroyAllWindows()"
   ]
  },
  {
   "cell_type": "markdown",
   "id": "a9cbf355",
   "metadata": {},
   "source": [
    "# Beispiel 3"
   ]
  },
  {
   "cell_type": "code",
   "execution_count": 5,
   "id": "2edbb6f4",
   "metadata": {},
   "outputs": [
    {
     "ename": "error",
     "evalue": "OpenCV(4.5.5) /Users/runner/work/opencv-python/opencv-python/opencv/modules/imgproc/src/color.cpp:182: error: (-215:Assertion failed) !_src.empty() in function 'cvtColor'\n",
     "output_type": "error",
     "traceback": [
      "\u001b[0;31m---------------------------------------------------------------------------\u001b[0m",
      "\u001b[0;31merror\u001b[0m                                     Traceback (most recent call last)",
      "\u001b[0;32m/var/folders/y4/tympfblj7_3bkzt6d0zlcdnh0000gn/T/ipykernel_26220/2144307570.py\u001b[0m in \u001b[0;36m<module>\u001b[0;34m\u001b[0m\n\u001b[1;32m      4\u001b[0m \u001b[0;32mwhile\u001b[0m \u001b[0;32mTrue\u001b[0m\u001b[0;34m:\u001b[0m\u001b[0;34m\u001b[0m\u001b[0;34m\u001b[0m\u001b[0m\n\u001b[1;32m      5\u001b[0m     \u001b[0m_\u001b[0m\u001b[0;34m,\u001b[0m \u001b[0mim\u001b[0m \u001b[0;34m=\u001b[0m \u001b[0mcapture\u001b[0m\u001b[0;34m.\u001b[0m\u001b[0mread\u001b[0m\u001b[0;34m(\u001b[0m\u001b[0;34m)\u001b[0m\u001b[0;34m\u001b[0m\u001b[0;34m\u001b[0m\u001b[0m\n\u001b[0;32m----> 6\u001b[0;31m     \u001b[0mim_gray\u001b[0m \u001b[0;34m=\u001b[0m \u001b[0mcv\u001b[0m\u001b[0;34m.\u001b[0m\u001b[0mcvtColor\u001b[0m\u001b[0;34m(\u001b[0m\u001b[0mim\u001b[0m\u001b[0;34m,\u001b[0m \u001b[0mcv\u001b[0m\u001b[0;34m.\u001b[0m\u001b[0mCOLOR_BGR2GRAY\u001b[0m\u001b[0;34m)\u001b[0m\u001b[0;34m\u001b[0m\u001b[0;34m\u001b[0m\u001b[0m\n\u001b[0m\u001b[1;32m      7\u001b[0m     \u001b[0mface\u001b[0m \u001b[0;34m=\u001b[0m \u001b[0mcascade\u001b[0m\u001b[0;34m.\u001b[0m\u001b[0mdetectMultiScale\u001b[0m\u001b[0;34m(\u001b[0m\u001b[0mim_gray\u001b[0m\u001b[0;34m)\u001b[0m\u001b[0;34m\u001b[0m\u001b[0;34m\u001b[0m\u001b[0m\n\u001b[1;32m      8\u001b[0m     \u001b[0;32mfor\u001b[0m \u001b[0mx\u001b[0m\u001b[0;34m,\u001b[0m \u001b[0my\u001b[0m\u001b[0;34m,\u001b[0m \u001b[0mwidth\u001b[0m\u001b[0;34m,\u001b[0m \u001b[0mheight\u001b[0m \u001b[0;32min\u001b[0m \u001b[0mface\u001b[0m\u001b[0;34m:\u001b[0m\u001b[0;34m\u001b[0m\u001b[0;34m\u001b[0m\u001b[0m\n",
      "\u001b[0;31merror\u001b[0m: OpenCV(4.5.5) /Users/runner/work/opencv-python/opencv-python/opencv/modules/imgproc/src/color.cpp:182: error: (-215:Assertion failed) !_src.empty() in function 'cvtColor'\n"
     ]
    }
   ],
   "source": [
    "import cv2 as cv\n",
    "capture = cv.VideoCapture(0)\n",
    "cascade = cv.CascadeClassifier(\"haarcascade_frontalface_default.xml\")\n",
    "while True:\n",
    "    _, im = capture.read()\n",
    "    im_gray = cv.cvtColor(im, cv.COLOR_BGR2GRAY)\n",
    "    face = cascade.detectMultiScale(im_gray)\n",
    "    for x, y, width, height in face:\n",
    "        cv.rectangle(im, (x, y), (x + width, y + height), color = (0,0,250), thickness = 5)\n",
    "    cv.imshow(\"Kamera\", im)\n",
    "    if cv.waitKey(1) == ord(\"q\"):\n",
    "        break\n",
    "capture.release()\n",
    "cv.destroyAllWindows()"
   ]
  },
  {
   "cell_type": "code",
   "execution_count": null,
   "id": "43c043ed",
   "metadata": {},
   "outputs": [],
   "source": []
  }
 ],
 "metadata": {
  "kernelspec": {
   "display_name": "Python 3 (ipykernel)",
   "language": "python",
   "name": "python3"
  },
  "language_info": {
   "codemirror_mode": {
    "name": "ipython",
    "version": 3
   },
   "file_extension": ".py",
   "mimetype": "text/x-python",
   "name": "python",
   "nbconvert_exporter": "python",
   "pygments_lexer": "ipython3",
   "version": "3.9.7"
  }
 },
 "nbformat": 4,
 "nbformat_minor": 5
}

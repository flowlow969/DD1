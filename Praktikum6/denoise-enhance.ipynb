{
 "cells": [
  {
   "cell_type": "markdown",
   "id": "b0b9629b",
   "metadata": {},
   "source": [
    "# Image Denoising with SimpleITK"
   ]
  },
  {
   "cell_type": "markdown",
   "id": "981d85ec",
   "metadata": {},
   "source": [
    "If SimpleITK is not yet installed in Your environment do so by executing:"
   ]
  },
  {
   "cell_type": "code",
   "execution_count": 1,
   "id": "4de1c202",
   "metadata": {
    "scrolled": false
   },
   "outputs": [
    {
     "name": "stdout",
     "output_type": "stream",
     "text": [
      "Requirement already satisfied: SimpleITK in /Users/florianherrmann/opt/anaconda3/lib/python3.9/site-packages (2.1.1.2)\r\n"
     ]
    }
   ],
   "source": [
    "## with conda\n",
    "#!conda install -c simpleitk simpleitk\n",
    "\n",
    "## with pip\n",
    "!python -m pip install SimpleITK"
   ]
  },
  {
   "cell_type": "markdown",
   "id": "7f2fb4ee",
   "metadata": {},
   "source": [
    "Import SimpleITK as sitk, read in a 3D image and show it in Fiji/IJ (don't close the window) and get some stats using SITK.\\\n",
    "On W10 fiji needs to be installed [C:\\Users\\your_user_name\\Fiji.app](https://simpleitk.readthedocs.io/en/master/faq.html#why-isn-t-fiji-or-imagej-found-by-the-show-function-runtimeerror-exception-thrown) for this to work."
   ]
  },
  {
   "cell_type": "code",
   "execution_count": 1,
   "id": "f09d1ece",
   "metadata": {},
   "outputs": [],
   "source": [
    "import os\n",
    "import SimpleITK as sitk"
   ]
  },
  {
   "cell_type": "code",
   "execution_count": 2,
   "id": "5456f0fd",
   "metadata": {},
   "outputs": [],
   "source": [
    "img = sitk.ReadImage(\"Bildserie_EM_Blender.mha\")\n",
    "\n"
   ]
  },
  {
   "cell_type": "code",
   "execution_count": 3,
   "id": "35b4fe0e",
   "metadata": {},
   "outputs": [],
   "source": [
    "sitk.Show(img, title='orig')"
   ]
  },
  {
   "cell_type": "code",
   "execution_count": 4,
   "id": "32799148",
   "metadata": {
    "scrolled": true
   },
   "outputs": [
    {
     "data": {
      "text/plain": [
       "136.26157494434136"
      ]
     },
     "execution_count": 4,
     "metadata": {},
     "output_type": "execute_result"
    }
   ],
   "source": [
    "## there is no sitk.Statistics function, so use *ImageFilter() instance instead (http://insightsoftwareconsortium.github.io/SimpleITK-Notebooks/Python_html/03_Image_Details.html)\n",
    "statistics_image_filter = sitk.StatisticsImageFilter()\n",
    "statistics_image_filter.Execute(img)\n",
    "statistics_image_filter.GetMean()"
   ]
  },
  {
   "cell_type": "markdown",
   "id": "1765f488",
   "metadata": {},
   "source": [
    "You can get help on nearly every filter:"
   ]
  },
  {
   "cell_type": "code",
   "execution_count": 5,
   "id": "d0f9231c",
   "metadata": {
    "scrolled": false
   },
   "outputs": [],
   "source": [
    "# help(sitk.StatisticsImageFilter)"
   ]
  },
  {
   "cell_type": "markdown",
   "id": "1a896d26",
   "metadata": {},
   "source": [
    "### Exercise 1\n",
    "\n",
    "Now run an isotropic 3D mean filter with a radis of 1 and inspect the result:"
   ]
  },
  {
   "cell_type": "code",
   "execution_count": 6,
   "id": "99e9ac5e",
   "metadata": {},
   "outputs": [],
   "source": [
    "## read up on the expected parameters of the mean filter function\n",
    "mean_image_filter = sitk.MeanImageFilter()"
   ]
  },
  {
   "cell_type": "code",
   "execution_count": 7,
   "id": "c3e19401",
   "metadata": {},
   "outputs": [],
   "source": [
    "## execute the mean filter function\n",
    "img_mean = mean_image_filter.Execute(img)"
   ]
  },
  {
   "cell_type": "code",
   "execution_count": 8,
   "id": "f76bd157",
   "metadata": {},
   "outputs": [],
   "source": [
    "## inspect the result visually\n",
    "sitk.Show(img_mean, title='Mean Image')"
   ]
  },
  {
   "cell_type": "markdown",
   "id": "74877e83",
   "metadata": {},
   "source": [
    "Nearly each ITK ImageFilter has a corresponding function in SITK for procedural execution (instead of object-oriented execution from filter classes)"
   ]
  },
  {
   "cell_type": "code",
   "execution_count": 9,
   "id": "3951f53d",
   "metadata": {},
   "outputs": [
    {
     "name": "stdout",
     "output_type": "stream",
     "text": [
      "Help on function GradientMagnitudeRecursiveGaussian in module SimpleITK.SimpleITK:\n",
      "\n",
      "GradientMagnitudeRecursiveGaussian(image1, sigma=1.0, normalizeAcrossScale=False)\n",
      "    GradientMagnitudeRecursiveGaussian(Image image1, double sigma=1.0, bool normalizeAcrossScale=False) -> Image\n",
      "\n"
     ]
    }
   ],
   "source": [
    "## SITK filter function\n",
    "help(sitk.GradientMagnitudeRecursiveGaussian)"
   ]
  },
  {
   "cell_type": "code",
   "execution_count": 10,
   "id": "2ccccded",
   "metadata": {
    "scrolled": true
   },
   "outputs": [
    {
     "name": "stdout",
     "output_type": "stream",
     "text": [
      "Help on class GradientMagnitudeRecursiveGaussianImageFilter in module SimpleITK.SimpleITK:\n",
      "\n",
      "class GradientMagnitudeRecursiveGaussianImageFilter(ImageFilter)\n",
      " |  Computes the Magnitude of the Gradient of an image by convolution with\n",
      " |  the first derivative of a Gaussian.\n",
      " |  \n",
      " |  \n",
      " |  This filter is implemented using the recursive gaussian filters\n",
      " |  See:\n",
      " |   itk::simple::GradientMagnitudeRecursiveGaussian for the procedural interface\n",
      " |  \n",
      " |   itk::GradientMagnitudeRecursiveGaussianImageFilter for the Doxygen on the original ITK class.\n",
      " |  \n",
      " |  \n",
      " |  C++ includes: sitkGradientMagnitudeRecursiveGaussianImageFilter.h\n",
      " |  \n",
      " |  Method resolution order:\n",
      " |      GradientMagnitudeRecursiveGaussianImageFilter\n",
      " |      ImageFilter\n",
      " |      ProcessObject\n",
      " |      builtins.object\n",
      " |  \n",
      " |  Methods defined here:\n",
      " |  \n",
      " |  Execute(self, image1)\n",
      " |      Execute(GradientMagnitudeRecursiveGaussianImageFilter self, Image image1) -> Image\n",
      " |  \n",
      " |  GetName(self)\n",
      " |      GetName(GradientMagnitudeRecursiveGaussianImageFilter self) -> std::string\n",
      " |      \n",
      " |      \n",
      " |      Name of this class\n",
      " |  \n",
      " |  GetNormalizeAcrossScale(self)\n",
      " |      GetNormalizeAcrossScale(GradientMagnitudeRecursiveGaussianImageFilter self) -> bool\n",
      " |      \n",
      " |      \n",
      " |      Define which normalization factor will be used for the Gaussian\n",
      " |      See:\n",
      " |       RecursiveGaussianImageFilter::SetNormalizeAcrossScale\n",
      " |  \n",
      " |  GetSigma(self)\n",
      " |      GetSigma(GradientMagnitudeRecursiveGaussianImageFilter self) -> double\n",
      " |      \n",
      " |      \n",
      " |      Set Sigma value. Sigma is measured in the units of image spacing.\n",
      " |  \n",
      " |  NormalizeAcrossScaleOff(self)\n",
      " |      NormalizeAcrossScaleOff(GradientMagnitudeRecursiveGaussianImageFilter self)\n",
      " |  \n",
      " |  NormalizeAcrossScaleOn(self)\n",
      " |      NormalizeAcrossScaleOn(GradientMagnitudeRecursiveGaussianImageFilter self)\n",
      " |      \n",
      " |      \n",
      " |      Set the value of NormalizeAcrossScale to true or false respectfully.\n",
      " |  \n",
      " |  SetNormalizeAcrossScale(self, NormalizeAcrossScale)\n",
      " |      SetNormalizeAcrossScale(GradientMagnitudeRecursiveGaussianImageFilter self, bool NormalizeAcrossScale)\n",
      " |      \n",
      " |      \n",
      " |      Define which normalization factor will be used for the Gaussian\n",
      " |      See:\n",
      " |       RecursiveGaussianImageFilter::SetNormalizeAcrossScale\n",
      " |  \n",
      " |  SetSigma(self, Sigma)\n",
      " |      SetSigma(GradientMagnitudeRecursiveGaussianImageFilter self, double Sigma)\n",
      " |      \n",
      " |      \n",
      " |      Set Sigma value. Sigma is measured in the units of image spacing.\n",
      " |  \n",
      " |  __init__(self)\n",
      " |      __init__(GradientMagnitudeRecursiveGaussianImageFilter self) -> GradientMagnitudeRecursiveGaussianImageFilter\n",
      " |      \n",
      " |      \n",
      " |      Default Constructor that takes no arguments and initializes default\n",
      " |      parameters\n",
      " |  \n",
      " |  __repr__ = _swig_repr(self)\n",
      " |  \n",
      " |  __str__(self)\n",
      " |      __str__(GradientMagnitudeRecursiveGaussianImageFilter self) -> std::string\n",
      " |      \n",
      " |      \n",
      " |      Print ourselves out\n",
      " |  \n",
      " |  ----------------------------------------------------------------------\n",
      " |  Static methods defined here:\n",
      " |  \n",
      " |  __swig_destroy__ = delete_GradientMagnitudeRecursiveGaussianImageFilter(...)\n",
      " |      delete_GradientMagnitudeRecursiveGaussianImageFilter(GradientMagnitudeRecursiveGaussianImageFilter self)\n",
      " |      \n",
      " |      \n",
      " |      Destructor\n",
      " |  \n",
      " |  ----------------------------------------------------------------------\n",
      " |  Data descriptors defined here:\n",
      " |  \n",
      " |  thisown\n",
      " |      The membership flag\n",
      " |  \n",
      " |  ----------------------------------------------------------------------\n",
      " |  Methods inherited from ProcessObject:\n",
      " |  \n",
      " |  Abort(self)\n",
      " |      Abort(ProcessObject self)\n",
      " |      \n",
      " |      \n",
      " |      Sets an abort flag on the active process.\n",
      " |      \n",
      " |      Requests the current active process to abort. Additional, progress or\n",
      " |      iteration event may occur. If aborted then, an AbortEvent should\n",
      " |      occur. The Progress should be set to 1.0 after aborting.\n",
      " |      \n",
      " |      The expected behavior is that not exception should be throw out of\n",
      " |      this processes Execute method. Additionally, the results returned are\n",
      " |      valid but undefined content. The content may be only partially\n",
      " |      updated, uninitialized or the a of size zero.\n",
      " |      \n",
      " |      If there is no active process the method has no effect.\n",
      " |  \n",
      " |  AddCommand(self, *args)\n",
      " |      AddCommand(ProcessObject self, itk::simple::EventEnum event, Command cmd) -> int\n",
      " |      AddCommand(ProcessObject self, itk::simple::EventEnum e, PyObject * obj) -> int\n",
      " |      \n",
      " |      \n",
      " |      Directly add a callback to observe an event.\n",
      " |      \n",
      " |      \n",
      " |      This overloaded method can take a C++ lambda function as a second\n",
      " |      argument.\n",
      " |  \n",
      " |  DebugOff(self)\n",
      " |      DebugOff(ProcessObject self)\n",
      " |  \n",
      " |  DebugOn(self)\n",
      " |      DebugOn(ProcessObject self)\n",
      " |  \n",
      " |  GetDebug(self)\n",
      " |      GetDebug(ProcessObject self) -> bool\n",
      " |  \n",
      " |  GetNumberOfThreads(self)\n",
      " |      GetNumberOfThreads(ProcessObject self) -> unsigned int\n",
      " |  \n",
      " |  GetNumberOfWorkUnits(self)\n",
      " |      GetNumberOfWorkUnits(ProcessObject self) -> unsigned int\n",
      " |  \n",
      " |  GetProgress(self)\n",
      " |      GetProgress(ProcessObject self) -> float\n",
      " |      \n",
      " |      \n",
      " |      An Active Measurement of the progress of execution.\n",
      " |      \n",
      " |      \n",
      " |      Get the execution progress of the current process object. The progress\n",
      " |      is a floating number in [0,1] with 0 meaning no progress and 1 meaning\n",
      " |      the filter has completed execution (or aborted).\n",
      " |      \n",
      " |      This is an Active Measurement so it can be accessed during Events\n",
      " |      during the execution.\n",
      " |  \n",
      " |  HasCommand(self, event)\n",
      " |      HasCommand(ProcessObject self, itk::simple::EventEnum event) -> bool\n",
      " |      \n",
      " |      \n",
      " |      Query of this object has any registered commands for event.\n",
      " |  \n",
      " |  RemoveAllCommands(self)\n",
      " |      RemoveAllCommands(ProcessObject self)\n",
      " |      \n",
      " |      \n",
      " |      Remove all registered commands.\n",
      " |      \n",
      " |      \n",
      " |      Calling when this object is invoking anther command will produce\n",
      " |      undefined behavior.\n",
      " |  \n",
      " |  SetDebug(self, debugFlag)\n",
      " |      SetDebug(ProcessObject self, bool debugFlag)\n",
      " |  \n",
      " |  SetNumberOfThreads(self, n)\n",
      " |      SetNumberOfThreads(ProcessObject self, unsigned int n)\n",
      " |  \n",
      " |  SetNumberOfWorkUnits(self, n)\n",
      " |      SetNumberOfWorkUnits(ProcessObject self, unsigned int n)\n",
      " |  \n",
      " |  ----------------------------------------------------------------------\n",
      " |  Static methods inherited from ProcessObject:\n",
      " |  \n",
      " |  GetGlobalDefaultCoordinateTolerance()\n",
      " |      GetGlobalDefaultCoordinateTolerance() -> double\n",
      " |  \n",
      " |  GetGlobalDefaultDebug()\n",
      " |      GetGlobalDefaultDebug() -> bool\n",
      " |  \n",
      " |  GetGlobalDefaultDirectionTolerance()\n",
      " |      GetGlobalDefaultDirectionTolerance() -> double\n",
      " |  \n",
      " |  GetGlobalDefaultNumberOfThreads()\n",
      " |      GetGlobalDefaultNumberOfThreads() -> unsigned int\n",
      " |  \n",
      " |  GetGlobalDefaultThreader()\n",
      " |      GetGlobalDefaultThreader() -> std::string\n",
      " |  \n",
      " |  GetGlobalWarningDisplay()\n",
      " |      GetGlobalWarningDisplay() -> bool\n",
      " |  \n",
      " |  GlobalDefaultDebugOff()\n",
      " |      GlobalDefaultDebugOff()\n",
      " |  \n",
      " |  GlobalDefaultDebugOn()\n",
      " |      GlobalDefaultDebugOn()\n",
      " |  \n",
      " |  GlobalWarningDisplayOff()\n",
      " |      GlobalWarningDisplayOff()\n",
      " |  \n",
      " |  GlobalWarningDisplayOn()\n",
      " |      GlobalWarningDisplayOn()\n",
      " |  \n",
      " |  SetGlobalDefaultCoordinateTolerance(arg1)\n",
      " |      SetGlobalDefaultCoordinateTolerance(double arg1)\n",
      " |  \n",
      " |  SetGlobalDefaultDebug(debugFlag)\n",
      " |      SetGlobalDefaultDebug(bool debugFlag)\n",
      " |  \n",
      " |  SetGlobalDefaultDirectionTolerance(arg1)\n",
      " |      SetGlobalDefaultDirectionTolerance(double arg1)\n",
      " |  \n",
      " |  SetGlobalDefaultNumberOfThreads(n)\n",
      " |      SetGlobalDefaultNumberOfThreads(unsigned int n)\n",
      " |  \n",
      " |  SetGlobalDefaultThreader(threader)\n",
      " |      SetGlobalDefaultThreader(std::string const & threader) -> bool\n",
      " |  \n",
      " |  SetGlobalWarningDisplay(flag)\n",
      " |      SetGlobalWarningDisplay(bool flag)\n",
      " |  \n",
      " |  ----------------------------------------------------------------------\n",
      " |  Data descriptors inherited from ProcessObject:\n",
      " |  \n",
      " |  __dict__\n",
      " |      dictionary for instance variables (if defined)\n",
      " |  \n",
      " |  __weakref__\n",
      " |      list of weak references to the object (if defined)\n",
      "\n"
     ]
    }
   ],
   "source": [
    "## SITK image filter class\n",
    "help(sitk.GradientMagnitudeRecursiveGaussianImageFilter)"
   ]
  },
  {
   "cell_type": "code",
   "execution_count": 11,
   "id": "081fcf94",
   "metadata": {},
   "outputs": [],
   "source": [
    "gm= sitk.GradientMagnitudeRecursiveGaussian(img, sigma=10.0)"
   ]
  },
  {
   "cell_type": "code",
   "execution_count": 12,
   "id": "bdbd786d",
   "metadata": {},
   "outputs": [],
   "source": [
    "sitk.Show(gm, title=\"gm+10.0\")"
   ]
  },
  {
   "cell_type": "markdown",
   "id": "abc97073",
   "metadata": {},
   "source": [
    "Most image filters like GradientAnisotropicDiffusion (adg) can also be run object-oriented as in \"pure\" ITK which allows e.g. to introduce progress reports:"
   ]
  },
  {
   "cell_type": "raw",
   "id": "2548087b",
   "metadata": {},
   "source": [
    "help(sitk.GradientAnisotropicDiffusionImageFilter)"
   ]
  },
  {
   "cell_type": "code",
   "execution_count": 13,
   "id": "5a7b3493",
   "metadata": {},
   "outputs": [
    {
     "name": "stdout",
     "output_type": "stream",
     "text": [
      "StartEvent\n",
      "GradientAnisotropicDiffusionImageFilter Progress: 0.00\n"
     ]
    },
    {
     "name": "stderr",
     "output_type": "stream",
     "text": [
      "WARNING: In /Users/runner/work/1/sitk-build/ITK-prefix/include/ITK-5.2/itkAnisotropicDiffusionImageFilter.hxx, line 77\n",
      "GradientAnisotropicDiffusionImageFilter (0x7fcdd0bed6c0): Anisotropic diffusion unstable time step: 0.75\n",
      "Stable time step for this image must be smaller than 0.3125\n",
      "\n"
     ]
    },
    {
     "name": "stdout",
     "output_type": "stream",
     "text": [
      "GradientAnisotropicDiffusionImageFilter Progress: 0.00\n",
      "GradientAnisotropicDiffusionImageFilter Progress: 0.10\n"
     ]
    },
    {
     "name": "stderr",
     "output_type": "stream",
     "text": [
      "WARNING: In /Users/runner/work/1/sitk-build/ITK-prefix/include/ITK-5.2/itkAnisotropicDiffusionImageFilter.hxx, line 77\n",
      "GradientAnisotropicDiffusionImageFilter (0x7fcdd0bed6c0): Anisotropic diffusion unstable time step: 0.75\n",
      "Stable time step for this image must be smaller than 0.3125\n",
      "\n"
     ]
    },
    {
     "name": "stdout",
     "output_type": "stream",
     "text": [
      "GradientAnisotropicDiffusionImageFilter Progress: 0.10\n",
      "GradientAnisotropicDiffusionImageFilter Progress: 0.20\n"
     ]
    },
    {
     "name": "stderr",
     "output_type": "stream",
     "text": [
      "WARNING: In /Users/runner/work/1/sitk-build/ITK-prefix/include/ITK-5.2/itkAnisotropicDiffusionImageFilter.hxx, line 77\n",
      "GradientAnisotropicDiffusionImageFilter (0x7fcdd0bed6c0): Anisotropic diffusion unstable time step: 0.75\n",
      "Stable time step for this image must be smaller than 0.3125\n",
      "\n"
     ]
    },
    {
     "name": "stdout",
     "output_type": "stream",
     "text": [
      "GradientAnisotropicDiffusionImageFilter Progress: 0.20\n",
      "GradientAnisotropicDiffusionImageFilter Progress: 0.30\n"
     ]
    },
    {
     "name": "stderr",
     "output_type": "stream",
     "text": [
      "WARNING: In /Users/runner/work/1/sitk-build/ITK-prefix/include/ITK-5.2/itkAnisotropicDiffusionImageFilter.hxx, line 77\n",
      "GradientAnisotropicDiffusionImageFilter (0x7fcdd0bed6c0): Anisotropic diffusion unstable time step: 0.75\n",
      "Stable time step for this image must be smaller than 0.3125\n",
      "\n"
     ]
    },
    {
     "name": "stdout",
     "output_type": "stream",
     "text": [
      "GradientAnisotropicDiffusionImageFilter Progress: 0.30\n",
      "GradientAnisotropicDiffusionImageFilter Progress: 0.40\n"
     ]
    },
    {
     "name": "stderr",
     "output_type": "stream",
     "text": [
      "WARNING: In /Users/runner/work/1/sitk-build/ITK-prefix/include/ITK-5.2/itkAnisotropicDiffusionImageFilter.hxx, line 77\n",
      "GradientAnisotropicDiffusionImageFilter (0x7fcdd0bed6c0): Anisotropic diffusion unstable time step: 0.75\n",
      "Stable time step for this image must be smaller than 0.3125\n",
      "\n"
     ]
    },
    {
     "name": "stdout",
     "output_type": "stream",
     "text": [
      "GradientAnisotropicDiffusionImageFilter Progress: 0.40\n",
      "GradientAnisotropicDiffusionImageFilter Progress: 0.50\n"
     ]
    },
    {
     "name": "stderr",
     "output_type": "stream",
     "text": [
      "WARNING: In /Users/runner/work/1/sitk-build/ITK-prefix/include/ITK-5.2/itkAnisotropicDiffusionImageFilter.hxx, line 77\n",
      "GradientAnisotropicDiffusionImageFilter (0x7fcdd0bed6c0): Anisotropic diffusion unstable time step: 0.75\n",
      "Stable time step for this image must be smaller than 0.3125\n",
      "\n"
     ]
    },
    {
     "name": "stdout",
     "output_type": "stream",
     "text": [
      "GradientAnisotropicDiffusionImageFilter Progress: 0.50\n",
      "GradientAnisotropicDiffusionImageFilter Progress: 0.60\n"
     ]
    },
    {
     "name": "stderr",
     "output_type": "stream",
     "text": [
      "WARNING: In /Users/runner/work/1/sitk-build/ITK-prefix/include/ITK-5.2/itkAnisotropicDiffusionImageFilter.hxx, line 77\n",
      "GradientAnisotropicDiffusionImageFilter (0x7fcdd0bed6c0): Anisotropic diffusion unstable time step: 0.75\n",
      "Stable time step for this image must be smaller than 0.3125\n",
      "\n"
     ]
    },
    {
     "name": "stdout",
     "output_type": "stream",
     "text": [
      "GradientAnisotropicDiffusionImageFilter Progress: 0.60\n",
      "GradientAnisotropicDiffusionImageFilter Progress: 0.70\n"
     ]
    },
    {
     "name": "stderr",
     "output_type": "stream",
     "text": [
      "WARNING: In /Users/runner/work/1/sitk-build/ITK-prefix/include/ITK-5.2/itkAnisotropicDiffusionImageFilter.hxx, line 77\n",
      "GradientAnisotropicDiffusionImageFilter (0x7fcdd0bed6c0): Anisotropic diffusion unstable time step: 0.75\n",
      "Stable time step for this image must be smaller than 0.3125\n",
      "\n"
     ]
    },
    {
     "name": "stdout",
     "output_type": "stream",
     "text": [
      "GradientAnisotropicDiffusionImageFilter Progress: 0.70\n",
      "GradientAnisotropicDiffusionImageFilter Progress: 0.80\n"
     ]
    },
    {
     "name": "stderr",
     "output_type": "stream",
     "text": [
      "WARNING: In /Users/runner/work/1/sitk-build/ITK-prefix/include/ITK-5.2/itkAnisotropicDiffusionImageFilter.hxx, line 77\n",
      "GradientAnisotropicDiffusionImageFilter (0x7fcdd0bed6c0): Anisotropic diffusion unstable time step: 0.75\n",
      "Stable time step for this image must be smaller than 0.3125\n",
      "\n"
     ]
    },
    {
     "name": "stdout",
     "output_type": "stream",
     "text": [
      "GradientAnisotropicDiffusionImageFilter Progress: 0.80\n",
      "GradientAnisotropicDiffusionImageFilter Progress: 0.90\n"
     ]
    },
    {
     "name": "stderr",
     "output_type": "stream",
     "text": [
      "WARNING: In /Users/runner/work/1/sitk-build/ITK-prefix/include/ITK-5.2/itkAnisotropicDiffusionImageFilter.hxx, line 77\n",
      "GradientAnisotropicDiffusionImageFilter (0x7fcdd0bed6c0): Anisotropic diffusion unstable time step: 0.75\n",
      "Stable time step for this image must be smaller than 0.3125\n",
      "\n"
     ]
    },
    {
     "name": "stdout",
     "output_type": "stream",
     "text": [
      "GradientAnisotropicDiffusionImageFilter Progress: 0.90\n",
      "GradientAnisotropicDiffusionImageFilter Progress: 1.00\n",
      "EndEvent\n"
     ]
    }
   ],
   "source": [
    "class MyCommand(sitk.Command):\n",
    "    def __init__(self, po):\n",
    "        # required\n",
    "        super(MyCommand, self).__init__()\n",
    "        self.processObject = po\n",
    "\n",
    "    def Execute(self):\n",
    "        print(f\"{self.processObject.GetName()} Progress: {self.processObject.GetProgress():1.2f}\")\n",
    "\n",
    "adg= sitk.GradientAnisotropicDiffusionImageFilter()\n",
    "adg.SetTimeStep(0.75)\n",
    "adg.SetConductanceParameter(0.75)\n",
    "adg.SetNumberOfIterations(10)\n",
    "\n",
    "cmd=MyCommand(adg)\n",
    "adg.AddCommand(sitk.sitkProgressEvent, cmd)\n",
    "adg.AddCommand(sitk.sitkStartEvent, lambda: print(\"StartEvent\"))\n",
    "adg.AddCommand(sitk.sitkEndEvent, lambda: print(\"EndEvent\"))\n",
    "\n",
    "adg_img= adg.Execute(sitk.Cast(img, sitk.sitkFloat32))"
   ]
  },
  {
   "cell_type": "markdown",
   "id": "084ee6ca",
   "metadata": {},
   "source": [
    "Running GradientAnisotropicDiffusion (adg) procedural:\\\n",
    "(NB: the cell with the following commands is [disabled, cells of type \"Raw NBConvert\"](https://stackoverflow.com/questions/32444840/jupyter-how-to-comment-out-cells))"
   ]
  },
  {
   "cell_type": "raw",
   "id": "0802aad1",
   "metadata": {},
   "source": [
    "help(sitk.GradientAnisotropicDiffusion)\n"
   ]
  },
  {
   "cell_type": "raw",
   "id": "11b2df49",
   "metadata": {},
   "source": [
    "adg_img= sitk.GradientAnisotropicDiffusion(sitk.Cast(img, sitk.sitkFloat32), timeStep=0.75, conductanceParameter=0.75, numberOfIterations=10)"
   ]
  },
  {
   "cell_type": "code",
   "execution_count": 14,
   "id": "463b3247",
   "metadata": {},
   "outputs": [],
   "source": [
    "sitk.Show(adg_img, title=\"adg+0.75+0.75+10\")"
   ]
  },
  {
   "cell_type": "markdown",
   "id": "6b98a88a",
   "metadata": {},
   "source": [
    "### Question 1\n",
    "\n",
    "1. Do we need the gm result from above?\n",
    "2. How is the gm result from above related to adg?\n",
    "3. If you did not close the Fiji windows, you can use Fiji to do a quantitative comparison inside Fiji! \\\n",
    "   What is the value range the mean and the adg results differ by?"
   ]
  },
  {
   "cell_type": "markdown",
   "id": "f4086993",
   "metadata": {},
   "source": [
    "### Answer 1\n",
    "\n",
    "1. Nein der gm Wert wird in der funktion nicht übergeben\n",
    "2. Die Berechnungen des gm (Betrag der Gradienten) wird ebenfalls in der funktion adg (Ortsabhängiger Gradient) durchgeführt.\n",
    "3. Der Differenzstack der beiden Stacks adg+0.75+0.75+10 und gm+10.0 besitzt ein Minimum von 28.094 und ein Maximum 246.810."
   ]
  },
  {
   "cell_type": "markdown",
   "id": "935f4f7a",
   "metadata": {},
   "source": [
    "### Exercise 2\n",
    "\n",
    "Double the `TimeStep` and half the `NumberOfIterations` and compare the result to the former \"adg+0.75+0.75+10\":"
   ]
  },
  {
   "cell_type": "code",
   "execution_count": 15,
   "id": "1f3a8cdb",
   "metadata": {
    "scrolled": true
   },
   "outputs": [
    {
     "name": "stderr",
     "output_type": "stream",
     "text": [
      "WARNING: In /Users/runner/work/1/sitk-build/ITK-prefix/include/ITK-5.2/itkAnisotropicDiffusionImageFilter.hxx, line 77\n",
      "GradientAnisotropicDiffusionImageFilter (0x7fcdd094f7f0): Anisotropic diffusion unstable time step: 1.5\n",
      "Stable time step for this image must be smaller than 0.3125\n",
      "\n",
      "WARNING: In /Users/runner/work/1/sitk-build/ITK-prefix/include/ITK-5.2/itkAnisotropicDiffusionImageFilter.hxx, line 77\n",
      "GradientAnisotropicDiffusionImageFilter (0x7fcdd094f7f0): Anisotropic diffusion unstable time step: 1.5\n",
      "Stable time step for this image must be smaller than 0.3125\n",
      "\n",
      "WARNING: In /Users/runner/work/1/sitk-build/ITK-prefix/include/ITK-5.2/itkAnisotropicDiffusionImageFilter.hxx, line 77\n",
      "GradientAnisotropicDiffusionImageFilter (0x7fcdd094f7f0): Anisotropic diffusion unstable time step: 1.5\n",
      "Stable time step for this image must be smaller than 0.3125\n",
      "\n",
      "WARNING: In /Users/runner/work/1/sitk-build/ITK-prefix/include/ITK-5.2/itkAnisotropicDiffusionImageFilter.hxx, line 77\n",
      "GradientAnisotropicDiffusionImageFilter (0x7fcdd094f7f0): Anisotropic diffusion unstable time step: 1.5\n",
      "Stable time step for this image must be smaller than 0.3125\n",
      "\n",
      "WARNING: In /Users/runner/work/1/sitk-build/ITK-prefix/include/ITK-5.2/itkAnisotropicDiffusionImageFilter.hxx, line 77\n",
      "GradientAnisotropicDiffusionImageFilter (0x7fcdd094f7f0): Anisotropic diffusion unstable time step: 1.5\n",
      "Stable time step for this image must be smaller than 0.3125\n",
      "\n"
     ]
    }
   ],
   "source": [
    "## double the TimeStep and half the NumberOfIterations of adg from above\n",
    "adg2_img= sitk.GradientAnisotropicDiffusion(sitk.Cast(img, sitk.sitkFloat32), timeStep=1.5, conductanceParameter=0.75, numberOfIterations=5)\n",
    "\n",
    "sitk.Show(adg2_img, title=\"adg+1.5+0.75+5\")"
   ]
  },
  {
   "cell_type": "markdown",
   "id": "4641b577",
   "metadata": {},
   "source": [
    "### Question 2\n",
    "\n",
    "1. If you did not close the Fiji windows, you can use Fiji to do a quantitative comparison inside Fiji!\\\n",
    "   What is the value range the two adg results differ by?\n",
    "\n",
    "2. What happens for a too big `TimeStep` of about `6.0`? (NB: Check the docu!)"
   ]
  },
  {
   "cell_type": "markdown",
   "id": "56de1075",
   "metadata": {},
   "source": [
    "### Answer 2\n",
    "\n",
    "1. Der Differenzstack der beiden Stacks adg+0.75+0.75+10 und adg+1.5+0.75+5 besitzt ein Minimum von -7.0899 und ein Maximum 8.1589.\n",
    "2. Bei einem sehr gross gewählten `TimeStep`, wiird die verändung der \"Wärmeverteilung\" sehr groß und das bild somit pixelig."
   ]
  },
  {
   "cell_type": "code",
   "execution_count": null,
   "id": "95fdeb2c",
   "metadata": {},
   "outputs": [],
   "source": []
  }
 ],
 "metadata": {
  "kernelspec": {
   "display_name": "Python 3 (ipykernel)",
   "language": "python",
   "name": "python3"
  },
  "language_info": {
   "codemirror_mode": {
    "name": "ipython",
    "version": 3
   },
   "file_extension": ".py",
   "mimetype": "text/x-python",
   "name": "python",
   "nbconvert_exporter": "python",
   "pygments_lexer": "ipython3",
   "version": "3.9.7"
  }
 },
 "nbformat": 4,
 "nbformat_minor": 5
}
